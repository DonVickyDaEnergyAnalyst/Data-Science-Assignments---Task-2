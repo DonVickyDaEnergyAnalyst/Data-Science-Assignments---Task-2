{
  "nbformat": 4,
  "nbformat_minor": 0,
  "metadata": {
    "colab": {
      "provenance": []
    },
    "kernelspec": {
      "name": "python3",
      "display_name": "Python 3"
    },
    "language_info": {
      "name": "python"
    }
  },
  "cells": [
    {
      "cell_type": "code",
      "execution_count": null,
      "metadata": {
        "id": "u-AvCJKDevQF"
      },
      "outputs": [],
      "source": []
    },
    {
      "cell_type": "markdown",
      "source": [
        "# Assignment Task 2\n",
        "## Course : Data Science\n",
        "## Tutor  : Gift Ukpoweh\n",
        "## Name   : Victor Ola\n",
        "##Reg No : DS/2025/TC3/244\n",
        "\n",
        "\n",
        "This solution contains  my solution to the questions given in the assignment task 2"
      ],
      "metadata": {
        "id": "t_JYZiqpev3o"
      }
    },
    {
      "cell_type": "markdown",
      "source": [
        "# Question 1: STUDENT GRADE EVALUATOR"
      ],
      "metadata": {
        "id": "vuHpgbKjfhm8"
      }
    },
    {
      "cell_type": "code",
      "source": [
        "student_scores = [55, 78, 89, 23, 56, 89, 78] #List to define student scores\n",
        "\n",
        "def grade_student(score): #Function to automate and return grade for each score entered.\n",
        "    if score >= 80:\n",
        "     return \"A\"\n",
        "    elif score >= 70:\n",
        "      return \"B\"\n",
        "    elif score >= 60:\n",
        "      return \"C\"\n",
        "    elif score >= 50:\n",
        "     return \"D\"\n",
        "    else:\n",
        "      return \"F\"\n",
        "\n",
        "for i, score in enumerate(student_scores): # To call the items in the list created\n",
        "    grade = grade_student(score)\n",
        "    print(f\"Student {i+1} score is: {score}, and the corresponding Grade is: {grade}\") #To print"
      ],
      "metadata": {
        "colab": {
          "base_uri": "https://localhost:8080/"
        },
        "id": "daWP0MTZf18y",
        "outputId": "834c5c7b-e30b-4681-9e0b-c6d67eed5a1a"
      },
      "execution_count": 1,
      "outputs": [
        {
          "output_type": "stream",
          "name": "stdout",
          "text": [
            "Student 1 score is: 55, and the corresponding Grade is: D\n",
            "Student 2 score is: 78, and the corresponding Grade is: B\n",
            "Student 3 score is: 89, and the corresponding Grade is: A\n",
            "Student 4 score is: 23, and the corresponding Grade is: F\n",
            "Student 5 score is: 56, and the corresponding Grade is: D\n",
            "Student 6 score is: 89, and the corresponding Grade is: A\n",
            "Student 7 score is: 78, and the corresponding Grade is: B\n"
          ]
        }
      ]
    },
    {
      "cell_type": "markdown",
      "source": [
        "# Question 2: ATM SIMULATOR"
      ],
      "metadata": {
        "id": "jQTuc55stuy8"
      }
    },
    {
      "cell_type": "code",
      "source": [
        "current_aact_number = 1000\n",
        "to_do_action = {1: \"Check Balance\", 2: \"Deposit Money\", 3: \"Withdraw Money\", 4: \"Exit\"}\n",
        "\n",
        "print(f\"You can perform the following transaction by pressing:\")\n",
        "print(f\"1 to {to_do_action[1]}\")\n",
        "print(f\"2 to {to_do_action[2]}\")\n",
        "print(f\"3 to {to_do_action[3]}\")\n",
        "print(f\"4 to {to_do_action[4]}\")\n",
        "\n",
        "def atm_machine(action):\n",
        "    global current_aact_number  # Use global to modify the variable outside the function\n",
        "    if action == '1': # Compare with string since input() returns string\n",
        "      print(f\"Your current balance is {current_aact_number}\")\n",
        "    elif action == '2': # Compare with string\n",
        "      print(f\"Enter the amount to add to your account\")\n",
        "      amount = int(input())\n",
        "      current_aact_number += amount\n",
        "      print(f\"Your current balance is {current_aact_number}\")\n",
        "    elif action == '3': # Compare with string\n",
        "      print(f\"Enter the amount to withdraw from your account\")\n",
        "      amount = int(input())\n",
        "      if amount > current_aact_number:\n",
        "        print(\"Insufficient Funds\")\n",
        "      else:\n",
        "        current_aact_number -= amount\n",
        "      print(f\"Your current balance is {current_aact_number}\")\n",
        "    elif action == '4': # Compare with string\n",
        "      print(\"Exiting the ATM now. Goodbye!\")\n",
        "      return True # Return True to indicate exit\n",
        "    return False # Return False if not exiting\n",
        "\n",
        "while True: # Loop until the user exits\n",
        "  action = input(\"Please enter a number corresponding to your transaction: \")\n",
        "  if atm_machine(action):\n",
        "    break # Exit the loop if atm_machine returns True"
      ],
      "metadata": {
        "colab": {
          "base_uri": "https://localhost:8080/"
        },
        "id": "CShU-Gnkgyhi",
        "outputId": "781b2be1-5529-4d23-8b28-8064df901274"
      },
      "execution_count": 2,
      "outputs": [
        {
          "output_type": "stream",
          "name": "stdout",
          "text": [
            "You can perform the following transaction by pressing:\n",
            "1 to Check Balance\n",
            "2 to Deposit Money\n",
            "3 to Withdraw Money\n",
            "4 to Exit\n",
            "Please enter a number corresponding to your transaction: 4\n",
            "Exiting the ATM now. Goodbye!\n"
          ]
        }
      ]
    },
    {
      "cell_type": "code",
      "source": [],
      "metadata": {
        "id": "fWW5qXjPviDn"
      },
      "execution_count": 2,
      "outputs": []
    }
  ]
}